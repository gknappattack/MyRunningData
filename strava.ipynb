{
 "cells": [
  {
   "cell_type": "code",
   "execution_count": 10,
   "id": "bf9ad43b",
   "metadata": {},
   "outputs": [],
   "source": [
    "from dotenv import load_dotenv\n",
    "from urllib.parse import urlencode\n",
    "import requests\n",
    "import os\n",
    "\n",
    "import matplotlib.pyplot as plt\n",
    "import matplotlib.ticker as plticker\n",
    "import pandas as pd\n",
    "import requests\n",
    "import urllib3\n",
    "import seaborn as sns\n",
    "from pandas import json_normalize"
   ]
  },
  {
   "cell_type": "markdown",
   "id": "73e427c8",
   "metadata": {},
   "source": [
    "## Setup for Accessing Strava Data"
   ]
  },
  {
   "cell_type": "markdown",
   "id": "d25f8019",
   "metadata": {},
   "source": [
    "When making a [Strava App](https://www.strava.com/settings/api), the access token scope is not sufficient for actually getting activity data. This is because the \"/athlete/activities\" API endpoint requires either a token with scope \"activity:read\" or \"activity:read_all\". Since a Strava API application only gets you a read token (which funnily enough is not sufficient to pull activity data on its own), the easiest way to overcome this is the following.\n",
    "\n",
    "1) Make a request using your clientID through a browser to the http://www.strava.com/oauth/authorize. Make sure to set scope=activity:read or your desired scope in the request. redirect_url=http://localhost is sufficient in this request since it is whitelisted by default and does not need to actually successfully redirect\n",
    "2) After making the request, you will be redirected to an OAuth page for your created Strava API application. Grant it permission to login with the requested scope.\n",
    "3) view the URL returned (the actual browser probably just shows nothing since it tried to redirect to localhost) and save the code that was returned into the response.\n",
    "4) Using this code, make a new request to https://www.strava.com/oauth/token, making sure to use your normal clientID, clientSecret, and code=your_code in the request and grant_type=authorization_code. This can be done in a Python script now.\n",
    "5) If successful, the request should return a new access_token and a refresh_token, which can be saved into your preferred way for storing secrets (this project uses a .env file that is .gitignored).\n",
    "\n",
    "The provided access_refresh tokens supposedly do not expire, so this process only needs to be done once. While roundabout, this appears to be the easiest way for handling this sort of issues when working with Strava's API in an isolated environment, rather than an active application with a server and browser to handle OAuth request."
   ]
  },
  {
   "cell_type": "code",
   "execution_count": 12,
   "id": "35ad9651",
   "metadata": {},
   "outputs": [],
   "source": [
    "# Set Strava URL for accessing API\n",
    "activities_url = 'https://www.strava.com/api/v3/athlete/activities'"
   ]
  },
  {
   "cell_type": "code",
   "execution_count": 9,
   "id": "c1b7b8c0",
   "metadata": {},
   "outputs": [
    {
     "data": {
      "text/plain": [
       "True"
      ]
     },
     "execution_count": 9,
     "metadata": {},
     "output_type": "execute_result"
    }
   ],
   "source": [
    "# Load .env file contents\n",
    "load_dotenv()"
   ]
  },
  {
   "cell_type": "markdown",
   "id": "66080b2d",
   "metadata": {},
   "source": [
    "## Request all my Strava Activity Data"
   ]
  },
  {
   "cell_type": "markdown",
   "id": "0022784e",
   "metadata": {},
   "source": [
    "Using the access token with the appropriate scope for reading my activities from Strava, I create request headers to use"
   ]
  },
  {
   "cell_type": "code",
   "execution_count": null,
   "id": "e17ac39e",
   "metadata": {},
   "outputs": [],
   "source": [
    "header = {'Authorization': 'Bearer ' + os.getenv(\"STRAVA_ACCESS_TOKEN\")}"
   ]
  },
  {
   "cell_type": "markdown",
   "id": "9815dcbb",
   "metadata": {},
   "source": [
    "This function loops through the Strava response data and adds it to an output array, if any were returned. This is because when hitting the 'athlete/activity' GET API, the items are returned in a list without an associated key (i.e. 'data') so the JSON can be directly iterated over or appended to a list. When all activites are parsed, the next page request will return an empty JSON item back, so iteration will stop there.\n",
    "\n",
    "The maximum results per page that can be configured is 200, which is used to reduce the chance of hitting Strava's API limits.\n",
    "\n",
    "Small functionality is added to check for an error of hitting the Rate Limit, since the boolean condition does not account for getting a response that is not actually containing data (since there isn't a key to check for when data is returned).\n",
    "\n",
    "Strava has a 100 read requests / 15 minute limit on top of a 1000 read limit per day, which isn't an issue when dealing with just my activites but could be difficult if parsing for multiple athletes."
   ]
  },
  {
   "cell_type": "code",
   "execution_count": 6,
   "id": "acb63e47",
   "metadata": {},
   "outputs": [
    {
     "name": "stdout",
     "output_type": "stream",
     "text": [
      "You are requesting page 1 of your activities data ...\n",
      "You are requesting page 2 of your activities data ...\n"
     ]
    }
   ],
   "source": [
    "# Function to request activities data\n",
    "def loop_through_pages(page):\n",
    "    # start at page ...\n",
    "    page = page\n",
    "    # set new_results to True initially\n",
    "    new_results = True\n",
    "    # create an empty array to store our combined pages of data in\n",
    "    data = []\n",
    "    while new_results:\n",
    "        # Give some feedback\n",
    "        print(f'You are requesting page {page} of your activities data ...')\n",
    "        # request a page + 200 results\n",
    "        get_strava = requests.get(activities_url, headers=header, params={'per_page': 200, 'page': f'{page}'}).json()\n",
    "\n",
    "        if 'message' in get_strava:\n",
    "            if get_strava['message'] == \"Rate Limit Exceeded\":\n",
    "                print(\"Rate Limited Exceeded, please wait before retrying\")\n",
    "                break\n",
    "\n",
    "        # save the response to new_results to check if its empty or not and close the loop\n",
    "        new_results = get_strava\n",
    "        # add our responses to the data array\n",
    "        data.extend(get_strava)\n",
    "        # increment the page\n",
    "        page += 1\n",
    "    # return the combine results of our get requests\n",
    "    return data\n",
    "\n",
    "# call the function to loop through our strava pages and set the starting page at 1\n",
    "my_dataset = loop_through_pages(1)"
   ]
  },
  {
   "cell_type": "code",
   "execution_count": 13,
   "id": "1c69e8f6",
   "metadata": {},
   "outputs": [
    {
     "name": "stdout",
     "output_type": "stream",
     "text": [
      "Found 106 activites!\n"
     ]
    }
   ],
   "source": [
    "print(f'Found {len(my_dataset)} activites!')"
   ]
  },
  {
   "cell_type": "markdown",
   "id": "20328dd3",
   "metadata": {},
   "source": [
    "## Converting Activities into a proper dataset"
   ]
  },
  {
   "cell_type": "code",
   "execution_count": null,
   "id": "6184db28",
   "metadata": {},
   "outputs": [],
   "source": []
  }
 ],
 "metadata": {
  "kernelspec": {
   "display_name": "venv",
   "language": "python",
   "name": "python3"
  },
  "language_info": {
   "codemirror_mode": {
    "name": "ipython",
    "version": 3
   },
   "file_extension": ".py",
   "mimetype": "text/x-python",
   "name": "python",
   "nbconvert_exporter": "python",
   "pygments_lexer": "ipython3",
   "version": "3.10.2"
  }
 },
 "nbformat": 4,
 "nbformat_minor": 5
}
